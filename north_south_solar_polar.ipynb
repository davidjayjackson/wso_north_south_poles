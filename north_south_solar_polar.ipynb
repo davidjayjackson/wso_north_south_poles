{
  "cells": [
    {
      "cell_type": "raw",
      "metadata": {},
      "source": [
        "---\n",
        "title: New and Improved Solar Polar Analysis\n",
        "date: '2024-06-04'\n",
        "author: David J Jackson\n",
        "---"
      ],
      "id": "257af825"
    },
    {
      "cell_type": "markdown",
      "metadata": {},
      "source": [
        "# Load the libraries"
      ],
      "id": "88b32bf3"
    },
    {
      "cell_type": "code",
      "metadata": {},
      "source": [
        "import pandas as pd\n",
        "import matplotlib.pyplot as plt\n",
        "from statsmodels.tsa.seasonal import STL\n",
        "from scipy.signal import find_peaks\n",
        "import os"
      ],
      "id": "37b169f8",
      "execution_count": null,
      "outputs": []
    },
    {
      "cell_type": "markdown",
      "metadata": {},
      "source": [
        "# Load Rodney's Solar Data"
      ],
      "id": "269a73b6"
    },
    {
      "cell_type": "code",
      "metadata": {},
      "source": [
        "import pandas as pd\n",
        "\n",
        "# Load the data from the CSV file\n",
        "file_path = './WSO_fixed.csv'\n",
        "data = pd.read_csv(file_path)\n",
        "\n",
        "# Display the first few rows of the dataset\n",
        "data.head()"
      ],
      "id": "ce692961",
      "execution_count": null,
      "outputs": []
    },
    {
      "cell_type": "markdown",
      "metadata": {},
      "source": [
        "# Identify data types of each column"
      ],
      "id": "ff516f89"
    },
    {
      "cell_type": "code",
      "metadata": {},
      "source": [
        "data_types = data.dtypes\n",
        "data_types"
      ],
      "id": "24103840",
      "execution_count": null,
      "outputs": []
    },
    {
      "cell_type": "markdown",
      "metadata": {},
      "source": [
        "# Check for missing values in the dataset"
      ],
      "id": "d298183e"
    },
    {
      "cell_type": "code",
      "metadata": {},
      "source": [
        "missing_values = data.isnull().sum()\n",
        "missing_values"
      ],
      "id": "0104c63a",
      "execution_count": null,
      "outputs": []
    },
    {
      "cell_type": "markdown",
      "metadata": {},
      "source": [
        "# Replace the non-numeric 'XXX' with a suitable placeholder (e.g., NaN).\n",
        "The unique values in the g_n column reveal the presence of an entry 'XXX', which is non-numeric. This is likely why the entire column was imported as a string. To proceed, we should handle this non-numeric value and then convert the column to a numeric type.\n"
      ],
      "id": "a4a2c64d"
    },
    {
      "cell_type": "code",
      "metadata": {},
      "source": [
        "# List the unique values in the g_n column\n",
        "unique_g_n_values = data['g_n'].unique()\n",
        "unique_g_n_values"
      ],
      "id": "c4902575",
      "execution_count": null,
      "outputs": []
    }
  ],
  "metadata": {
    "kernelspec": {
      "name": "python3",
      "language": "python",
      "display_name": "Python 3 (ipykernel)"
    }
  },
  "nbformat": 4,
  "nbformat_minor": 5
}